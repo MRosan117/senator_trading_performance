{
 "cells": [
  {
   "cell_type": "code",
   "execution_count": 18,
   "id": "7302e718-4400-4147-b18d-4132bab58e4f",
   "metadata": {
    "tags": []
   },
   "outputs": [],
   "source": [
    "import pandas as pd\n",
    "import calendar\n",
    "import hvplot.pandas\n",
    "from sqlalchemy import create_engine\n",
    "import csv\n",
    "import numpy as np\n",
    "import matplotlib.pyplot as plt\n",
    "import panel as pn\n",
    "import hvplot.pandas"
   ]
  },
  {
   "cell_type": "code",
   "execution_count": null,
   "id": "596d04f4-5506-4583-8679-85bcfc098608",
   "metadata": {},
   "outputs": [],
   "source": [
    "pn.extension('plotly')"
   ]
  },
  {
   "cell_type": "code",
   "execution_count": 25,
   "id": "52715092-d2eb-49cc-9502-d31789a174dd",
   "metadata": {
    "tags": []
   },
   "outputs": [
    {
     "name": "stdout",
     "output_type": "stream",
     "text": [
      "     transaction_date   owner ticker asset_type            type     amount  \\\n",
      "0           4/18/2023  Spouse    ESS      Stock     Sale (Full)   $15,000    \n",
      "1           4/18/2023    Self    ESS      Stock     Sale (Full)   $15,000    \n",
      "3            4/4/2023  Spouse    UPS      Stock     Sale (Full)   $15,000    \n",
      "4            4/4/2023  Spouse    MCD      Stock  Sale (Partial)   $15,000    \n",
      "5            4/4/2023  Spouse    DUK      Stock     Sale (Full)   $50,000    \n",
      "...               ...     ...    ...        ...             ...        ...   \n",
      "7627        1/16/2015    Self    NOG      Stock        Purchase   $50,000    \n",
      "7628         1/6/2015    Self    FCX      Stock     Sale (Full)  $100,000    \n",
      "7640       12/12/2014  Spouse    XOM      Stock     Sale (Full)   $15,000    \n",
      "7641       12/19/2014  Spouse     BA      Stock        Purchase   $15,000    \n",
      "7642       12/12/2014  Spouse    BAC      Stock     Sale (Full)   $15,000    \n",
      "\n",
      "     state                           industry               senator  \n",
      "0       RI      Real Estate Investment Trusts    Sheldon Whitehouse  \n",
      "1       RI      Real Estate Investment Trusts    Sheldon Whitehouse  \n",
      "3       WV  Trucking Freight/Courier Services  Shelley Moore Capito  \n",
      "4       WV                        Restaurants  Shelley Moore Capito  \n",
      "5       WV                   Power Generation  Shelley Moore Capito  \n",
      "...    ...                                ...                   ...  \n",
      "7627    ND               Oil & Gas Production           John Hoeven  \n",
      "7628    ND                    Precious Metals           John Hoeven  \n",
      "7640    KS           Integrated oil Companies           Pat Roberts  \n",
      "7641    KS                          Aerospace           Pat Roberts  \n",
      "7642    KS                        Major Banks           Pat Roberts  \n",
      "\n",
      "[5501 rows x 9 columns]\n"
     ]
    }
   ],
   "source": [
    "senator_csv = ('senators.csv')\n",
    "\n",
    "senator_df = pd.read_csv(senator_csv).dropna() # remove NA \n",
    "\n",
    "\n",
    "print(senator_df)"
   ]
  },
  {
   "cell_type": "code",
   "execution_count": 24,
   "id": "d558fb5e-ca9b-45ed-b51f-edbdef07b2bf",
   "metadata": {
    "tags": []
   },
   "outputs": [
    {
     "name": "stdout",
     "output_type": "stream",
     "text": [
      "     transaction_date            type    amount               senator\n",
      "0           4/18/2023     Sale (Full)  $15,000     Sheldon Whitehouse\n",
      "1           4/18/2023     Sale (Full)  $15,000     Sheldon Whitehouse\n",
      "2           5/16/2023             NaN       NaN     Michael F. Bennet\n",
      "3            4/4/2023     Sale (Full)  $15,000   Shelley Moore Capito\n",
      "4            4/4/2023  Sale (Partial)  $15,000   Shelley Moore Capito\n",
      "...               ...             ...       ...                   ...\n",
      "8441        8/17/2012             NaN       NaN    Sheldon Whitehouse\n",
      "8442        8/16/2012             NaN       NaN           Pat Roberts\n",
      "8443        8/15/2012             NaN       NaN           Rob Portman\n",
      "8444         8/2/2012             NaN       NaN      Thomas R. Carper\n",
      "8445        7/25/2012             NaN       NaN     Benjamin L Cardin\n",
      "\n",
      "[8446 rows x 4 columns]\n"
     ]
    }
   ],
   "source": [
    "import yfinance as yf\n",
    "\n",
    "\n",
    "\n",
    "selected_columns = senator_df[['transaction_date', 'type', 'amount', 'senator']]\n",
    "print(selected_columns)"
   ]
  },
  {
   "cell_type": "code",
   "execution_count": null,
   "id": "8ee7de68-ba2e-49bd-8f04-50025b09131b",
   "metadata": {},
   "outputs": [],
   "source": [
    "msft_tickers = yf.Tickers('MSFT')\n"
   ]
  },
  {
   "cell_type": "code",
   "execution_count": null,
   "id": "7dcfec74-f678-42fd-a62c-c503f8dd0f6a",
   "metadata": {},
   "outputs": [],
   "source": []
  }
 ],
 "metadata": {
  "kernelspec": {
   "display_name": "Python 3 (ipykernel)",
   "language": "python",
   "name": "python3"
  },
  "language_info": {
   "codemirror_mode": {
    "name": "ipython",
    "version": 3
   },
   "file_extension": ".py",
   "mimetype": "text/x-python",
   "name": "python",
   "nbconvert_exporter": "python",
   "pygments_lexer": "ipython3",
   "version": "3.9.17"
  }
 },
 "nbformat": 4,
 "nbformat_minor": 5
}

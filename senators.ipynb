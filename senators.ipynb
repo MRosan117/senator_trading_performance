{
 "cells": [
  {
   "cell_type": "code",
   "execution_count": 40,
   "id": "b8f46730-3571-4214-b1c7-4e10abdd0bcd",
   "metadata": {},
   "outputs": [],
   "source": [
    "import pandas as pd\n",
    "import calendar\n",
    "import hvplot.pandas\n",
    "from sqlalchemy import create_engine\n",
    "import csv\n",
    "import numpy as np\n",
    "import matplotlib.pyplot as plt\n"
   ]
  },
  {
   "cell_type": "code",
   "execution_count": 41,
   "id": "5aa1a2cf-31a8-42da-8662-1b941523bb81",
   "metadata": {
    "tags": []
   },
   "outputs": [
    {
     "name": "stdout",
     "output_type": "stream",
     "text": [
      "       owner ticker asset_type            type     amount state       party  \\\n",
      "0     Spouse    ESS      Stock     Sale (Full)   $15,000     RI    Democrat   \n",
      "1       Self    ESS      Stock     Sale (Full)   $15,000     RI    Democrat   \n",
      "3     Spouse    UPS      Stock     Sale (Full)   $15,000     WV  Republican   \n",
      "4     Spouse    MCD      Stock  Sale (Partial)   $15,000     WV  Republican   \n",
      "5     Spouse    DUK      Stock     Sale (Full)   $50,000     WV  Republican   \n",
      "...      ...    ...        ...             ...        ...   ...         ...   \n",
      "7627    Self    NOG      Stock        Purchase   $50,000     ND  Republican   \n",
      "7628    Self    FCX      Stock     Sale (Full)  $100,000     ND  Republican   \n",
      "7640  Spouse    XOM      Stock     Sale (Full)   $15,000     KS  Republican   \n",
      "7641  Spouse     BA      Stock        Purchase   $15,000     KS  Republican   \n",
      "7642  Spouse    BAC      Stock     Sale (Full)   $15,000     KS  Republican   \n",
      "\n",
      "                               industry               senator  \n",
      "0         Real Estate Investment Trusts    Sheldon Whitehouse  \n",
      "1         Real Estate Investment Trusts    Sheldon Whitehouse  \n",
      "3     Trucking Freight/Courier Services  Shelley Moore Capito  \n",
      "4                           Restaurants  Shelley Moore Capito  \n",
      "5                      Power Generation  Shelley Moore Capito  \n",
      "...                                 ...                   ...  \n",
      "7627               Oil & Gas Production           John Hoeven  \n",
      "7628                    Precious Metals           John Hoeven  \n",
      "7640           Integrated oil Companies           Pat Roberts  \n",
      "7641                          Aerospace           Pat Roberts  \n",
      "7642                        Major Banks           Pat Roberts  \n",
      "\n",
      "[5501 rows x 9 columns]\n"
     ]
    }
   ],
   "source": [
    "senator_csv = ('senators_fixed_dates_&amounts.csv')\n",
    "\n",
    "senator_df = pd.read_csv(senator_csv).dropna()\n",
    "\n",
    "print(senator_df)"
   ]
  },
  {
   "cell_type": "code",
   "execution_count": 42,
   "id": "b11051d6-85be-4e41-9f6d-397b1f423cd3",
   "metadata": {
    "tags": []
   },
   "outputs": [
    {
     "name": "stdout",
     "output_type": "stream",
     "text": [
      "           party               senator     amount ticker\n",
      "0       Democrat    Sheldon Whitehouse   $15,000     ESS\n",
      "1       Democrat    Sheldon Whitehouse   $15,000     ESS\n",
      "3     Republican  Shelley Moore Capito   $15,000     UPS\n",
      "4     Republican  Shelley Moore Capito   $15,000     MCD\n",
      "5     Republican  Shelley Moore Capito   $50,000     DUK\n",
      "...          ...                   ...        ...    ...\n",
      "7627  Republican           John Hoeven   $50,000     NOG\n",
      "7628  Republican           John Hoeven  $100,000     FCX\n",
      "7640  Republican           Pat Roberts   $15,000     XOM\n",
      "7641  Republican           Pat Roberts   $15,000      BA\n",
      "7642  Republican           Pat Roberts   $15,000     BAC\n",
      "\n",
      "[5501 rows x 4 columns]\n"
     ]
    }
   ],
   "source": [
    "# separate senators by party\n",
    "keep_columns = ['party', 'senator', 'amount', 'ticker']\n",
    "senator_party = senator_df[keep_columns]\n",
    "print(senator_party)"
   ]
  },
  {
   "cell_type": "code",
   "execution_count": 43,
   "id": "282fe7ac-543d-49f8-bcb2-150651ba5cbd",
   "metadata": {
    "tags": []
   },
   "outputs": [
    {
     "name": "stdout",
     "output_type": "stream",
     "text": [
      "Democrat DataFrame:\n",
      "       owner ticker asset_type            type    amount state     party  \\\n",
      "0     Spouse    ESS      Stock     Sale (Full)  $15,000     RI  Democrat   \n",
      "1       Self    ESS      Stock     Sale (Full)  $15,000     RI  Democrat   \n",
      "6     Spouse    TTD      Stock     Sale (Full)  $50,000     CO  Democrat   \n",
      "7     Spouse   PTON      Stock     Sale (Full)  $15,000     CO  Democrat   \n",
      "8     Spouse    DIS      Stock     Sale (Full)  $50,000     CO  Democrat   \n",
      "...      ...    ...        ...             ...       ...   ...       ...   \n",
      "7610   Child    ETN      Stock     Sale (Full)  $15,000     RI  Democrat   \n",
      "7612   Joint    ETN      Stock     Sale (Full)  $50,000     RI  Democrat   \n",
      "7613    Self    DHR      Stock  Sale (Partial)  $50,000     RI  Democrat   \n",
      "7615    Self   GILD      Stock        Purchase  $50,000     RI  Democrat   \n",
      "7616    Self    AIG      Stock     Sale (Full)  $15,000     RI  Democrat   \n",
      "\n",
      "                                               industry               senator  \n",
      "0                         Real Estate Investment Trusts    Sheldon Whitehouse  \n",
      "1                         Real Estate Investment Trusts    Sheldon Whitehouse  \n",
      "6       Computer Software: Programming, Data Processing  John W. Hickenlooper  \n",
      "7                            Recreational Products/Toys  John W. Hickenlooper  \n",
      "8                 Services-Misc. Amusement & Recreation  John W. Hickenlooper  \n",
      "...                                                 ...                   ...  \n",
      "7610                    Industrial Machinery/Components    Sheldon Whitehouse  \n",
      "7612                    Industrial Machinery/Components    Sheldon Whitehouse  \n",
      "7613                    Industrial Machinery/Components    Sheldon Whitehouse  \n",
      "7615  Biotechnology: Biological Products (No Diagnos...    Sheldon Whitehouse  \n",
      "7616                         Property-Casualty Insurers    Sheldon Whitehouse  \n",
      "\n",
      "[1340 rows x 9 columns]\n",
      "\n",
      "Republican DataFrame:\n",
      "       owner ticker    asset_type            type     amount state  \\\n",
      "3     Spouse    UPS         Stock     Sale (Full)   $15,000     WV   \n",
      "4     Spouse    MCD         Stock  Sale (Partial)   $15,000     WV   \n",
      "5     Spouse    DUK         Stock     Sale (Full)   $50,000     WV   \n",
      "19     Joint    CLF  Stock Option  Sale (Partial)   $15,000     AL   \n",
      "20     Joint    CLF  Stock Option  Sale (Partial)   $15,000     AL   \n",
      "...      ...    ...           ...             ...        ...   ...   \n",
      "7627    Self    NOG         Stock        Purchase   $50,000     ND   \n",
      "7628    Self    FCX         Stock     Sale (Full)  $100,000     ND   \n",
      "7640  Spouse    XOM         Stock     Sale (Full)   $15,000     KS   \n",
      "7641  Spouse     BA         Stock        Purchase   $15,000     KS   \n",
      "7642  Spouse    BAC         Stock     Sale (Full)   $15,000     KS   \n",
      "\n",
      "           party                           industry               senator  \n",
      "3     Republican  Trucking Freight/Courier Services  Shelley Moore Capito  \n",
      "4     Republican                        Restaurants  Shelley Moore Capito  \n",
      "5     Republican                   Power Generation  Shelley Moore Capito  \n",
      "19    Republican                    Precious Metals      Tommy Tuberville  \n",
      "20    Republican                    Precious Metals      Tommy Tuberville  \n",
      "...          ...                                ...                   ...  \n",
      "7627  Republican               Oil & Gas Production           John Hoeven  \n",
      "7628  Republican                    Precious Metals           John Hoeven  \n",
      "7640  Republican           Integrated oil Companies           Pat Roberts  \n",
      "7641  Republican                          Aerospace           Pat Roberts  \n",
      "7642  Republican                        Major Banks           Pat Roberts  \n",
      "\n",
      "[4134 rows x 9 columns]\n"
     ]
    }
   ],
   "source": [
    "democrat_party = senator_df[senator_df['party'] == 'Democrat']\n",
    "republican_party = senator_df[senator_df['party'] == 'Republican']\n",
    "\n",
    "print(\"Democrat DataFrame:\")\n",
    "print(democrat_party)\n",
    "\n",
    "print(\"\\nRepublican DataFrame:\")\n",
    "print(republican_party)\n"
   ]
  },
  {
   "cell_type": "code",
   "execution_count": 44,
   "id": "8f1266cb-8b44-4ebc-b548-80c12d41915f",
   "metadata": {
    "tags": []
   },
   "outputs": [
    {
     "name": "stdout",
     "output_type": "stream",
     "text": [
      "         party               senator    amount ticker\n",
      "0     Democrat    Sheldon Whitehouse  $15,000     ESS\n",
      "1     Democrat    Sheldon Whitehouse  $15,000     ESS\n",
      "6     Democrat  John W. Hickenlooper  $50,000     TTD\n",
      "7     Democrat  John W. Hickenlooper  $15,000    PTON\n",
      "8     Democrat  John W. Hickenlooper  $50,000     DIS\n",
      "...        ...                   ...       ...    ...\n",
      "7610  Democrat    Sheldon Whitehouse  $15,000     ETN\n",
      "7612  Democrat    Sheldon Whitehouse  $50,000     ETN\n",
      "7613  Democrat    Sheldon Whitehouse  $50,000     DHR\n",
      "7615  Democrat    Sheldon Whitehouse  $50,000    GILD\n",
      "7616  Democrat    Sheldon Whitehouse  $15,000     AIG\n",
      "\n",
      "[1340 rows x 4 columns]\n",
      "51985000.0\n"
     ]
    }
   ],
   "source": [
    "democrat_party = democrat_party[keep_columns]\n",
    "print(democrat_party)\n",
    "\n",
    "democrat_party['amount'] = democrat_party['amount'].replace({'\\$': '', ',': ''}, regex=True).astype(float)\n",
    "\n",
    "dparty_total_sum_amount = democrat_party['amount'].sum()\n",
    "print(dparty_total_sum_amount)"
   ]
  },
  {
   "cell_type": "code",
   "execution_count": 45,
   "id": "314ce89d-d999-4db0-adc1-accdfadc35da",
   "metadata": {
    "tags": []
   },
   "outputs": [
    {
     "name": "stdout",
     "output_type": "stream",
     "text": [
      "           party               senator     amount ticker\n",
      "3     Republican  Shelley Moore Capito   $15,000     UPS\n",
      "4     Republican  Shelley Moore Capito   $15,000     MCD\n",
      "5     Republican  Shelley Moore Capito   $50,000     DUK\n",
      "19    Republican      Tommy Tuberville   $15,000     CLF\n",
      "20    Republican      Tommy Tuberville   $15,000     CLF\n",
      "...          ...                   ...        ...    ...\n",
      "7627  Republican           John Hoeven   $50,000     NOG\n",
      "7628  Republican           John Hoeven  $100,000     FCX\n",
      "7640  Republican           Pat Roberts   $15,000     XOM\n",
      "7641  Republican           Pat Roberts   $15,000      BA\n",
      "7642  Republican           Pat Roberts   $15,000     BAC\n",
      "\n",
      "[4134 rows x 4 columns]\n",
      "388695000.0\n"
     ]
    }
   ],
   "source": [
    "republican_party = republican_party[keep_columns]\n",
    "print(republican_party)\n",
    "\n",
    "\n",
    "republican_party['amount'] = republican_party['amount'].replace({'\\$': '', ',': ''}, regex=True).astype(float)\n",
    "\n",
    "rparty_total_sum_amount = republican_party['amount'].sum()\n",
    "print(rparty_total_sum_amount)\n"
   ]
  },
  {
   "cell_type": "code",
   "execution_count": 46,
   "id": "0042ccaa-ef5e-41f1-adf2-6ccfea59f88e",
   "metadata": {
    "tags": []
   },
   "outputs": [
    {
     "data": {
      "image/png": "[encoded data removed]",
      "text/plain": [
       "<Figure size 600x600 with 1 Axes>"
      ]
     },
     "metadata": {},
     "output_type": "display_data"
    }
   ],
   "source": [
    "# use hvplot to create a pie chart\n",
    "party_combine = pd.DataFrame({\n",
    "    'party': ['Republican', 'Democrat'],\n",
    "    'total_sum_amount': [rparty_total_sum_amount, dparty_total_sum_amount]\n",
    "})\n",
    "\n",
    "plt.figure(figsize=(6, 6))\n",
    "plt.pie(party_combine['total_sum_amount'], labels=party_combine['party'], autopct='%1.1f%%', startangle=140, colors=['blue', 'green'])\n",
    "plt.axis('equal')  # Equal aspect ratio ensures that pie is drawn as a circle.\n",
    "plt.title('Total Sum of Each Party')\n",
    "plt.show()"
   ]
  },
  {
   "cell_type": "code",
   "execution_count": null,
   "id": "f3835ded-db7e-411a-b51f-4b5192c6cbe0",
   "metadata": {},
   "outputs": [],
   "source": []
  },
  {
   "cell_type": "code",
   "execution_count": null,
   "id": "1f38a1c5-8587-47b8-ac15-7583b1de4b44",
   "metadata": {},
   "outputs": [],
   "source": []
  }
 ],
 "metadata": {
  "kernelspec": {
   "display_name": "Python 3 (ipykernel)",
   "language": "python",
   "name": "python3"
  },
  "language_info": {
   "codemirror_mode": {
    "name": "ipython",
    "version": 3
   },
   "file_extension": ".py",
   "mimetype": "text/x-python",
   "name": "python",
   "nbconvert_exporter": "python",
   "pygments_lexer": "ipython3",
   "version": "3.9.17"
  }
 },
 "nbformat": 4,
 "nbformat_minor": 5
}
